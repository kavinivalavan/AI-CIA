{
 "cells": [
  {
   "cell_type": "markdown",
   "metadata": {},
   "source": [
    "Min-Max where it Maximizes"
   ]
  },
  {
   "cell_type": "code",
   "execution_count": 24,
   "metadata": {},
   "outputs": [],
   "source": [
    "import math\n",
    "def minimax(depth, nodeIndex, isMaximizingPlayer, values, maxDepth):\n",
    "    #terminal node(leaf nodes)\n",
    "    if depth == maxDepth:\n",
    "        print(f\"Leaf node reached at depth {depth}, returning value: {values[nodeIndex]}\")\n",
    "        return values[nodeIndex]\n",
    "\n",
    "    if isMaximizingPlayer:\n",
    "        best = -math.inf\n",
    "\n",
    "        #print(f\"Maximizer at depth {depth}, evaluating children of node {nodeIndex}\")\n",
    "        print(f\"Maximizer at depth {depth}\")\n",
    "        #maximizer's choice (MAX player)\n",
    "        for i in range(2):\n",
    "            value = minimax(depth + 1, nodeIndex * 2 + i, False, values, maxDepth)\n",
    "            print(f\"Maximizer at depth {depth}, comparing value: {value} with best: {best}\")\n",
    "            best = max(best, value)\n",
    "        print(f\"Maximizer at depth {depth}, selected best: {best}\")\n",
    "        return best\n",
    "    else:\n",
    "        best = math.inf\n",
    "\n",
    "        #print(f\"Minimizer at depth {depth}, evaluating children of node {nodeIndex}\")\n",
    "        print(f\"Minimizer at depth {depth}\")\n",
    "        #minimizer's choice (MIN player)\n",
    "        for i in range(2):\n",
    "            value = minimax(depth + 1, nodeIndex * 2 + i, True, values, maxDepth)\n",
    "            print(f\"Minimizer at depth {depth}, comparing value: {value} with best: {best}\")\n",
    "            best = min(best, value)\n",
    "        print(f\"Minimizer at depth {depth}, selected best: {best}\")\n",
    "        return best"
   ]
  },
  {
   "cell_type": "code",
   "execution_count": 25,
   "metadata": {},
   "outputs": [
    {
     "name": "stdout",
     "output_type": "stream",
     "text": [
      "Maximizer at depth 0\n",
      "Minimizer at depth 1\n",
      "Maximizer at depth 2\n",
      "Leaf node reached at depth 3, returning value: 4\n",
      "Maximizer at depth 2, comparing value: 4 with best: -inf\n",
      "Leaf node reached at depth 3, returning value: 8\n",
      "Maximizer at depth 2, comparing value: 8 with best: 4\n",
      "Maximizer at depth 2, selected best: 8\n",
      "Minimizer at depth 1, comparing value: 8 with best: inf\n",
      "Maximizer at depth 2\n",
      "Leaf node reached at depth 3, returning value: 9\n",
      "Maximizer at depth 2, comparing value: 9 with best: -inf\n",
      "Leaf node reached at depth 3, returning value: 3\n",
      "Maximizer at depth 2, comparing value: 3 with best: 9\n",
      "Maximizer at depth 2, selected best: 9\n",
      "Minimizer at depth 1, comparing value: 9 with best: 8\n",
      "Minimizer at depth 1, selected best: 8\n",
      "Maximizer at depth 0, comparing value: 8 with best: -inf\n",
      "Minimizer at depth 1\n",
      "Maximizer at depth 2\n",
      "Leaf node reached at depth 3, returning value: 2\n",
      "Maximizer at depth 2, comparing value: 2 with best: -inf\n",
      "Leaf node reached at depth 3, returning value: -2\n",
      "Maximizer at depth 2, comparing value: -2 with best: 2\n",
      "Maximizer at depth 2, selected best: 2\n",
      "Minimizer at depth 1, comparing value: 2 with best: inf\n",
      "Maximizer at depth 2\n",
      "Leaf node reached at depth 3, returning value: 9\n",
      "Maximizer at depth 2, comparing value: 9 with best: -inf\n",
      "Leaf node reached at depth 3, returning value: -1\n",
      "Maximizer at depth 2, comparing value: -1 with best: 9\n",
      "Maximizer at depth 2, selected best: 9\n",
      "Minimizer at depth 1, comparing value: 9 with best: 2\n",
      "Minimizer at depth 1, selected best: 2\n",
      "Maximizer at depth 0, comparing value: 2 with best: 8\n",
      "Maximizer at depth 0, selected best: 8\n",
      "\n",
      "The optimal value is: 8\n"
     ]
    }
   ],
   "source": [
    "#the depth of the game\n",
    "maxDepth = 3\n",
    "#leaf-nodevalues\n",
    "values = [4,8,9,3,2,-2,9,-1]\n",
    "optimalValue = minimax(0, 0, True, values, maxDepth)\n",
    "\n",
    "print(\"\\nThe optimal value is:\", optimalValue)"
   ]
  },
  {
   "cell_type": "markdown",
   "metadata": {},
   "source": [
    "Min-Max where it Minimizes"
   ]
  },
  {
   "cell_type": "code",
   "execution_count": 26,
   "metadata": {},
   "outputs": [],
   "source": [
    "import math\n",
    "\n",
    "def minmax(depth, nodeIndex, isMinimizingPlayer, values, maxDepth):\n",
    "    # Terminal node (leaf nodes)\n",
    "    if depth == maxDepth:\n",
    "        print(f\"Leaf node reached at depth {depth}, returning value: {values[nodeIndex]}\")\n",
    "        return values[nodeIndex]\n",
    "\n",
    "    if isMinimizingPlayer:\n",
    "        best = math.inf\n",
    "\n",
    "        print(f\"Minimizer at depth {depth}\")\n",
    "        # Minimizer's choice (MIN player)\n",
    "        for i in range(2):\n",
    "            value = minimax(depth + 1, nodeIndex * 2 + i, False, values, maxDepth)\n",
    "            print(f\"Minimizer at depth {depth}, comparing value: {value} with best: {best}\")\n",
    "            best = min(best, value)\n",
    "        print(f\"Minimizer at depth {depth}, selected best: {best}\")\n",
    "        return best\n",
    "    else:\n",
    "        best = -math.inf\n",
    "\n",
    "        print(f\"Maximizer at depth {depth}\")\n",
    "        # Maximizer's choice (MAX player)\n",
    "        for i in range(2):\n",
    "            value = minimax(depth + 1, nodeIndex * 2 + i, True, values, maxDepth)\n",
    "            print(f\"Maximizer at depth {depth}, comparing value: {value} with best: {best}\")\n",
    "            best = max(best, value)\n",
    "        print(f\"Maximizer at depth {depth}, selected best: {best}\")\n",
    "        return best\n"
   ]
  },
  {
   "cell_type": "code",
   "execution_count": 27,
   "metadata": {},
   "outputs": [
    {
     "name": "stdout",
     "output_type": "stream",
     "text": [
      "Minimizer at depth 0\n",
      "Minimizer at depth 1\n",
      "Maximizer at depth 2\n",
      "Leaf node reached at depth 3, returning value: 4\n",
      "Maximizer at depth 2, comparing value: 4 with best: -inf\n",
      "Leaf node reached at depth 3, returning value: 8\n",
      "Maximizer at depth 2, comparing value: 8 with best: 4\n",
      "Maximizer at depth 2, selected best: 8\n",
      "Minimizer at depth 1, comparing value: 8 with best: inf\n",
      "Maximizer at depth 2\n",
      "Leaf node reached at depth 3, returning value: 9\n",
      "Maximizer at depth 2, comparing value: 9 with best: -inf\n",
      "Leaf node reached at depth 3, returning value: 3\n",
      "Maximizer at depth 2, comparing value: 3 with best: 9\n",
      "Maximizer at depth 2, selected best: 9\n",
      "Minimizer at depth 1, comparing value: 9 with best: 8\n",
      "Minimizer at depth 1, selected best: 8\n",
      "Minimizer at depth 0, comparing value: 8 with best: inf\n",
      "Minimizer at depth 1\n",
      "Maximizer at depth 2\n",
      "Leaf node reached at depth 3, returning value: 2\n",
      "Maximizer at depth 2, comparing value: 2 with best: -inf\n",
      "Leaf node reached at depth 3, returning value: -2\n",
      "Maximizer at depth 2, comparing value: -2 with best: 2\n",
      "Maximizer at depth 2, selected best: 2\n",
      "Minimizer at depth 1, comparing value: 2 with best: inf\n",
      "Maximizer at depth 2\n",
      "Leaf node reached at depth 3, returning value: 9\n",
      "Maximizer at depth 2, comparing value: 9 with best: -inf\n",
      "Leaf node reached at depth 3, returning value: -1\n",
      "Maximizer at depth 2, comparing value: -1 with best: 9\n",
      "Maximizer at depth 2, selected best: 9\n",
      "Minimizer at depth 1, comparing value: 9 with best: 2\n",
      "Minimizer at depth 1, selected best: 2\n",
      "Minimizer at depth 0, comparing value: 2 with best: 8\n",
      "Minimizer at depth 0, selected best: 2\n",
      "\n",
      "The optimal value is: 2\n"
     ]
    }
   ],
   "source": [
    "maxDepth = 3\n",
    "values = [4,8,9,3,2,-2,9,-1]\n",
    "optimalValue = minmax(0, 0, True, values, maxDepth)\n",
    "\n",
    "print(\"\\nThe optimal value is:\", optimalValue)"
   ]
  }
 ],
 "metadata": {
  "kernelspec": {
   "display_name": "Python 3",
   "language": "python",
   "name": "python3"
  },
  "language_info": {
   "codemirror_mode": {
    "name": "ipython",
    "version": 3
   },
   "file_extension": ".py",
   "mimetype": "text/x-python",
   "name": "python",
   "nbconvert_exporter": "python",
   "pygments_lexer": "ipython3",
   "version": "3.12.1"
  }
 },
 "nbformat": 4,
 "nbformat_minor": 2
}
